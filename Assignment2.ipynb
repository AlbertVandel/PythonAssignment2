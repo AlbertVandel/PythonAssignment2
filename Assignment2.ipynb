{
 "cells": [
  {
   "cell_type": "code",
   "execution_count": 34,
   "metadata": {},
   "outputs": [
    {
     "data": {
      "image/png": "[encoded data removed]",
      "text/plain": [
       "<Figure size 432x288 with 1 Axes>"
      ]
     },
     "metadata": {
      "needs_background": "light"
     },
     "output_type": "display_data"
    }
   ],
   "source": [
    "import kkdata\n",
    "import matplotlib.pyplot as plt\n",
    "\n",
    "def get_distribution():\n",
    "    s = kkdata.STATISTICS\n",
    "    year = 2015\n",
    "    hoods = s[year].keys()\n",
    "    \n",
    "    age_range = set([])\n",
    "    for n in hoods:\n",
    "        age_range.update(s[year][n].keys())\n",
    "    \n",
    "    no_ger_per_age = {}\n",
    "    no_en_per_age = {}\n",
    "    \n",
    "    for n in hoods:        \n",
    "        for age in age_range:\n",
    "            if age in s[2015][n].keys():\n",
    "                c_codes = set(s[2015][n][age].keys())\n",
    "                if 5180 in c_codes:\n",
    "                    no_ger_per_age.setdefault(age, 0)\n",
    "                    no_ger_per_age[age] += s[2015][n][age][5180]\n",
    "                if 5170 in c_codes:\n",
    "                    no_en_per_age.setdefault(age, 0)\n",
    "                    no_en_per_age[age] += s[2015][n][age][5170]    \n",
    "                    \n",
    "    return no_ger_per_age, no_en_per_age\n",
    "\n",
    "ger_per_age, en_per_age = get_distribution()\n",
    "\n",
    "ages_ger = list(ger_per_age.keys())\n",
    "no_citizens_ger = list(ger_per_age.values())\n",
    "ages_en= list(en_per_age.keys())\n",
    "no_citizens_en = list(en_per_age.values())\n",
    "\n",
    "\n",
    "title = \"distribution of german and british citizens in terms of age\"\n",
    "fig,ax = plt.subplots()\n",
    "ax.bar(ages_ger, no_citizens_ger, width = 0.5)\n",
    "ax.bar(ages_en, no_citizens_en, width = 0.5)\n",
    "ax.set_title(title)\n",
    "plt.show()"
   ]
  },
  {
   "cell_type": "code",
   "execution_count": null,
   "metadata": {},
   "outputs": [],
   "source": [
    "sad"
   ]
  }
 ],
 "metadata": {
  "kernelspec": {
   "display_name": "Python 3",
   "language": "python",
   "name": "python3"
  },
  "language_info": {
   "codemirror_mode": {
    "name": "ipython",
    "version": 3
   },
   "file_extension": ".py",
   "mimetype": "text/x-python",
   "name": "python",
   "nbconvert_exporter": "python",
   "pygments_lexer": "ipython3",
   "version": "3.7.1"
  }
 },
 "nbformat": 4,
 "nbformat_minor": 2
}
